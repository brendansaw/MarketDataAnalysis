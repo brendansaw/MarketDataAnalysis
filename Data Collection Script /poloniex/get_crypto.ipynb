{
 "cells": [
  {
   "cell_type": "code",
   "execution_count": 1,
   "metadata": {
    "collapsed": true
   },
   "outputs": [],
   "source": [
    "import requests\n",
    "import json\n",
    "import pandas as pd\n",
    "import numpy as np\n",
    "import datetime"
   ]
  },
  {
   "cell_type": "code",
   "execution_count": 2,
   "outputs": [],
   "source": [
    "def get_urls(start_epoch, end_epoch):\n",
    "    curr_start = start_epoch\n",
    "    one_day = 86400\n",
    "    ret = []\n",
    "    # can only do 500 results\n",
    "    while curr_start < end_epoch:\n",
    "        temp_end = min(end_epoch, curr_start + (one_day * 300))\n",
    "        url = f\"https://poloniex.com/public?command=returnChartData&currencyPair=USDT_ETH&start={curr_start}&end={temp_end}&period=86400\"\n",
    "        ret.append(url)\n",
    "        curr_start = temp_end\n",
    "    return ret\n",
    "\n",
    "# from 2015 to 2020 since USDT came out in 2014"
   ],
   "metadata": {
    "collapsed": false
   }
  },
  {
   "cell_type": "code",
   "execution_count": 3,
   "outputs": [
    {
     "name": "stdout",
     "output_type": "stream",
     "text": [
      "['https://poloniex.com/public?command=returnChartData&currencyPair=USDT_BTC&start=1451635200&end=1477555200&period=86400', 'https://poloniex.com/public?command=returnChartData&currencyPair=USDT_BTC&start=1477555200&end=1503475200&period=86400', 'https://poloniex.com/public?command=returnChartData&currencyPair=USDT_BTC&start=1503475200&end=1529395200&period=86400', 'https://poloniex.com/public?command=returnChartData&currencyPair=USDT_BTC&start=1529395200&end=1555315200&period=86400', 'https://poloniex.com/public?command=returnChartData&currencyPair=USDT_BTC&start=1555315200&end=1581235200&period=86400', 'https://poloniex.com/public?command=returnChartData&currencyPair=USDT_BTC&start=1581235200&end=1607155200&period=86400', 'https://poloniex.com/public?command=returnChartData&currencyPair=USDT_BTC&start=1607155200&end=1633075200&period=86400', 'https://poloniex.com/public?command=returnChartData&currencyPair=USDT_BTC&start=1633075200&end=1641023999&period=86400']\n"
     ]
    },
    {
     "data": {
      "text/plain": "             date      high       low      open     close  \\\n0   1451692800000    438.13    430.50    434.98    436.94   \n1   1451779200000    435.61    426.45    432.31    428.14   \n2   1451865600000    435.99    427.29    427.29    432.00   \n3   1451952000000    435.99    429.56    430.14    430.37   \n4   1452038400000    434.99    427.29    430.17    427.50   \n..            ...       ...       ...       ...       ...   \n88  1640649600000  50697.57  47308.43  50695.03  47544.75   \n89  1640736000000  48127.44  46103.90  47557.33  46467.99   \n90  1640822400000  47891.15  45931.10  46446.19  47123.57   \n91  1640908800000  48550.00  45680.00  47116.34  46203.93   \n92  1640995200000  47927.69  46202.84  46202.84  47725.86   \n\n                    volume                  quoteVolume  \\\n0     2.179981200000000000       944.853289360000000000   \n1     1.596348950000000000       683.918470000000000000   \n2     1.673427630000000000       724.976004450000000000   \n3     0.992530020000000000       427.647283090000000000   \n4     1.903357970000000000       819.344827130000000000   \n..                     ...                          ...   \n88  432.980600260000000000  21128112.575152080000000000   \n89  223.299514290000000000  10560490.824254680000000000   \n90  329.606173740000000000  15554828.169517630000000000   \n91  565.892259920000000000  26757384.534483720000000000   \n92  311.611522340000000000  14699209.159235150000000000   \n\n             weightedAverage  \n0     433.422677840000000000  \n1     428.426673250000000000  \n2     433.228178770000000000  \n3     430.865842310000000000  \n4     430.473321380000000000  \n..                       ...  \n88  48796.903515910000000000  \n89  47292.941311720000000000  \n90  47192.162674070000000000  \n91  47283.531565290000000000  \n92  47171.584185500000000000  \n\n[2194 rows x 8 columns]",
      "text/html": "<div>\n<style scoped>\n    .dataframe tbody tr th:only-of-type {\n        vertical-align: middle;\n    }\n\n    .dataframe tbody tr th {\n        vertical-align: top;\n    }\n\n    .dataframe thead th {\n        text-align: right;\n    }\n</style>\n<table border=\"1\" class=\"dataframe\">\n  <thead>\n    <tr style=\"text-align: right;\">\n      <th></th>\n      <th>date</th>\n      <th>high</th>\n      <th>low</th>\n      <th>open</th>\n      <th>close</th>\n      <th>volume</th>\n      <th>quoteVolume</th>\n      <th>weightedAverage</th>\n    </tr>\n  </thead>\n  <tbody>\n    <tr>\n      <th>0</th>\n      <td>1451692800000</td>\n      <td>438.13</td>\n      <td>430.50</td>\n      <td>434.98</td>\n      <td>436.94</td>\n      <td>2.179981200000000000</td>\n      <td>944.853289360000000000</td>\n      <td>433.422677840000000000</td>\n    </tr>\n    <tr>\n      <th>1</th>\n      <td>1451779200000</td>\n      <td>435.61</td>\n      <td>426.45</td>\n      <td>432.31</td>\n      <td>428.14</td>\n      <td>1.596348950000000000</td>\n      <td>683.918470000000000000</td>\n      <td>428.426673250000000000</td>\n    </tr>\n    <tr>\n      <th>2</th>\n      <td>1451865600000</td>\n      <td>435.99</td>\n      <td>427.29</td>\n      <td>427.29</td>\n      <td>432.00</td>\n      <td>1.673427630000000000</td>\n      <td>724.976004450000000000</td>\n      <td>433.228178770000000000</td>\n    </tr>\n    <tr>\n      <th>3</th>\n      <td>1451952000000</td>\n      <td>435.99</td>\n      <td>429.56</td>\n      <td>430.14</td>\n      <td>430.37</td>\n      <td>0.992530020000000000</td>\n      <td>427.647283090000000000</td>\n      <td>430.865842310000000000</td>\n    </tr>\n    <tr>\n      <th>4</th>\n      <td>1452038400000</td>\n      <td>434.99</td>\n      <td>427.29</td>\n      <td>430.17</td>\n      <td>427.50</td>\n      <td>1.903357970000000000</td>\n      <td>819.344827130000000000</td>\n      <td>430.473321380000000000</td>\n    </tr>\n    <tr>\n      <th>...</th>\n      <td>...</td>\n      <td>...</td>\n      <td>...</td>\n      <td>...</td>\n      <td>...</td>\n      <td>...</td>\n      <td>...</td>\n      <td>...</td>\n    </tr>\n    <tr>\n      <th>88</th>\n      <td>1640649600000</td>\n      <td>50697.57</td>\n      <td>47308.43</td>\n      <td>50695.03</td>\n      <td>47544.75</td>\n      <td>432.980600260000000000</td>\n      <td>21128112.575152080000000000</td>\n      <td>48796.903515910000000000</td>\n    </tr>\n    <tr>\n      <th>89</th>\n      <td>1640736000000</td>\n      <td>48127.44</td>\n      <td>46103.90</td>\n      <td>47557.33</td>\n      <td>46467.99</td>\n      <td>223.299514290000000000</td>\n      <td>10560490.824254680000000000</td>\n      <td>47292.941311720000000000</td>\n    </tr>\n    <tr>\n      <th>90</th>\n      <td>1640822400000</td>\n      <td>47891.15</td>\n      <td>45931.10</td>\n      <td>46446.19</td>\n      <td>47123.57</td>\n      <td>329.606173740000000000</td>\n      <td>15554828.169517630000000000</td>\n      <td>47192.162674070000000000</td>\n    </tr>\n    <tr>\n      <th>91</th>\n      <td>1640908800000</td>\n      <td>48550.00</td>\n      <td>45680.00</td>\n      <td>47116.34</td>\n      <td>46203.93</td>\n      <td>565.892259920000000000</td>\n      <td>26757384.534483720000000000</td>\n      <td>47283.531565290000000000</td>\n    </tr>\n    <tr>\n      <th>92</th>\n      <td>1640995200000</td>\n      <td>47927.69</td>\n      <td>46202.84</td>\n      <td>46202.84</td>\n      <td>47725.86</td>\n      <td>311.611522340000000000</td>\n      <td>14699209.159235150000000000</td>\n      <td>47171.584185500000000000</td>\n    </tr>\n  </tbody>\n</table>\n<p>2194 rows × 8 columns</p>\n</div>"
     },
     "execution_count": 3,
     "metadata": {},
     "output_type": "execute_result"
    }
   ],
   "source": [
    "urls = get_urls(int(datetime.datetime(2016, 1, 1, 0, 0, 0).strftime(\"%s\")), int(datetime.datetime(2021, 12, 31, 23, 59, 59).strftime(\"%s\")))   # 6 years from 2016 to 2021\n",
    "\n",
    "df = None\n",
    "for url in urls:\n",
    "    req = requests.get(url)\n",
    "    json_resp = json.loads(req.text)\n",
    "    if df is None:\n",
    "        df = pd.json_normalize(json_resp)\n",
    "    else:\n",
    "        df = pd.concat([df, pd.json_normalize(json_resp)])\n",
    "\n",
    "df"
   ],
   "metadata": {
    "collapsed": false
   }
  },
  {
   "cell_type": "code",
   "execution_count": 4,
   "outputs": [
    {
     "data": {
      "text/plain": "date                object\nhigh               float64\nlow                float64\nopen               float64\nclose              float64\nvolume             float64\nquoteVolume        float64\nweightedAverage    float64\ndtype: object"
     },
     "execution_count": 4,
     "metadata": {},
     "output_type": "execute_result"
    }
   ],
   "source": [
    "df = df.astype({\n",
    "    \"high\": np.float64,\n",
    "    \"low\": np.float64,\n",
    "    \"open\": np.float64,\n",
    "    \"close\": np.float64,\n",
    "    \"volume\": np.float64,\n",
    "    \"quoteVolume\": np.float64,\n",
    "    \"weightedAverage\": np.float64\n",
    "})\n",
    "df.dtypes"
   ],
   "metadata": {
    "collapsed": false
   }
  },
  {
   "cell_type": "code",
   "execution_count": 5,
   "outputs": [
    {
     "data": {
      "text/plain": "             date      high       low      open     close      volume  \\\n0   1451692800000    438.13    430.50    434.98    436.94    2.179981   \n1   1451779200000    435.61    426.45    432.31    428.14    1.596349   \n2   1451865600000    435.99    427.29    427.29    432.00    1.673428   \n3   1451952000000    435.99    429.56    430.14    430.37    0.992530   \n4   1452038400000    434.99    427.29    430.17    427.50    1.903358   \n..            ...       ...       ...       ...       ...         ...   \n88  1640649600000  50697.57  47308.43  50695.03  47544.75  432.980600   \n89  1640736000000  48127.44  46103.90  47557.33  46467.99  223.299514   \n90  1640822400000  47891.15  45931.10  46446.19  47123.57  329.606174   \n91  1640908800000  48550.00  45680.00  47116.34  46203.93  565.892260   \n92  1640995200000  47927.69  46202.84  46202.84  47725.86  311.611522   \n\n     quoteVolume  weightedAverage  \n0   9.448533e+02       433.422678  \n1   6.839185e+02       428.426673  \n2   7.249760e+02       433.228179  \n3   4.276473e+02       430.865842  \n4   8.193448e+02       430.473321  \n..           ...              ...  \n88  2.112811e+07     48796.903516  \n89  1.056049e+07     47292.941312  \n90  1.555483e+07     47192.162674  \n91  2.675738e+07     47283.531565  \n92  1.469921e+07     47171.584186  \n\n[2194 rows x 8 columns]",
      "text/html": "<div>\n<style scoped>\n    .dataframe tbody tr th:only-of-type {\n        vertical-align: middle;\n    }\n\n    .dataframe tbody tr th {\n        vertical-align: top;\n    }\n\n    .dataframe thead th {\n        text-align: right;\n    }\n</style>\n<table border=\"1\" class=\"dataframe\">\n  <thead>\n    <tr style=\"text-align: right;\">\n      <th></th>\n      <th>date</th>\n      <th>high</th>\n      <th>low</th>\n      <th>open</th>\n      <th>close</th>\n      <th>volume</th>\n      <th>quoteVolume</th>\n      <th>weightedAverage</th>\n    </tr>\n  </thead>\n  <tbody>\n    <tr>\n      <th>0</th>\n      <td>1451692800000</td>\n      <td>438.13</td>\n      <td>430.50</td>\n      <td>434.98</td>\n      <td>436.94</td>\n      <td>2.179981</td>\n      <td>9.448533e+02</td>\n      <td>433.422678</td>\n    </tr>\n    <tr>\n      <th>1</th>\n      <td>1451779200000</td>\n      <td>435.61</td>\n      <td>426.45</td>\n      <td>432.31</td>\n      <td>428.14</td>\n      <td>1.596349</td>\n      <td>6.839185e+02</td>\n      <td>428.426673</td>\n    </tr>\n    <tr>\n      <th>2</th>\n      <td>1451865600000</td>\n      <td>435.99</td>\n      <td>427.29</td>\n      <td>427.29</td>\n      <td>432.00</td>\n      <td>1.673428</td>\n      <td>7.249760e+02</td>\n      <td>433.228179</td>\n    </tr>\n    <tr>\n      <th>3</th>\n      <td>1451952000000</td>\n      <td>435.99</td>\n      <td>429.56</td>\n      <td>430.14</td>\n      <td>430.37</td>\n      <td>0.992530</td>\n      <td>4.276473e+02</td>\n      <td>430.865842</td>\n    </tr>\n    <tr>\n      <th>4</th>\n      <td>1452038400000</td>\n      <td>434.99</td>\n      <td>427.29</td>\n      <td>430.17</td>\n      <td>427.50</td>\n      <td>1.903358</td>\n      <td>8.193448e+02</td>\n      <td>430.473321</td>\n    </tr>\n    <tr>\n      <th>...</th>\n      <td>...</td>\n      <td>...</td>\n      <td>...</td>\n      <td>...</td>\n      <td>...</td>\n      <td>...</td>\n      <td>...</td>\n      <td>...</td>\n    </tr>\n    <tr>\n      <th>88</th>\n      <td>1640649600000</td>\n      <td>50697.57</td>\n      <td>47308.43</td>\n      <td>50695.03</td>\n      <td>47544.75</td>\n      <td>432.980600</td>\n      <td>2.112811e+07</td>\n      <td>48796.903516</td>\n    </tr>\n    <tr>\n      <th>89</th>\n      <td>1640736000000</td>\n      <td>48127.44</td>\n      <td>46103.90</td>\n      <td>47557.33</td>\n      <td>46467.99</td>\n      <td>223.299514</td>\n      <td>1.056049e+07</td>\n      <td>47292.941312</td>\n    </tr>\n    <tr>\n      <th>90</th>\n      <td>1640822400000</td>\n      <td>47891.15</td>\n      <td>45931.10</td>\n      <td>46446.19</td>\n      <td>47123.57</td>\n      <td>329.606174</td>\n      <td>1.555483e+07</td>\n      <td>47192.162674</td>\n    </tr>\n    <tr>\n      <th>91</th>\n      <td>1640908800000</td>\n      <td>48550.00</td>\n      <td>45680.00</td>\n      <td>47116.34</td>\n      <td>46203.93</td>\n      <td>565.892260</td>\n      <td>2.675738e+07</td>\n      <td>47283.531565</td>\n    </tr>\n    <tr>\n      <th>92</th>\n      <td>1640995200000</td>\n      <td>47927.69</td>\n      <td>46202.84</td>\n      <td>46202.84</td>\n      <td>47725.86</td>\n      <td>311.611522</td>\n      <td>1.469921e+07</td>\n      <td>47171.584186</td>\n    </tr>\n  </tbody>\n</table>\n<p>2194 rows × 8 columns</p>\n</div>"
     },
     "execution_count": 5,
     "metadata": {},
     "output_type": "execute_result"
    }
   ],
   "source": [
    "df"
   ],
   "metadata": {
    "collapsed": false
   }
  },
  {
   "cell_type": "code",
   "execution_count": 8,
   "outputs": [],
   "source": [
    "df['date'] = pd.to_datetime(df['date'], unit='ms')\n",
    "df = df.drop_duplicates(subset=[\"date\"])\n",
    "df = df.set_index(\"date\")\n",
    "df.to_csv(\"ETH_USDT_D.csv\")"
   ],
   "metadata": {
    "collapsed": false
   }
  },
  {
   "cell_type": "code",
   "execution_count": 6,
   "outputs": [],
   "source": [],
   "metadata": {
    "collapsed": false
   }
  },
  {
   "cell_type": "code",
   "execution_count": 6,
   "outputs": [],
   "source": [],
   "metadata": {
    "collapsed": false
   }
  }
 ],
 "metadata": {
  "kernelspec": {
   "display_name": "Python 3",
   "language": "python",
   "name": "python3"
  },
  "language_info": {
   "codemirror_mode": {
    "name": "ipython",
    "version": 2
   },
   "file_extension": ".py",
   "mimetype": "text/x-python",
   "name": "python",
   "nbconvert_exporter": "python",
   "pygments_lexer": "ipython2",
   "version": "2.7.6"
  }
 },
 "nbformat": 4,
 "nbformat_minor": 0
}
