{
 "cells": [
  {
   "cell_type": "code",
   "execution_count": 7,
   "metadata": {
    "collapsed": true
   },
   "outputs": [],
   "source": [
    "import requests\n",
    "import json\n",
    "import pandas as pd\n",
    "import numpy as np\n",
    "import datetime"
   ]
  },
  {
   "cell_type": "code",
   "execution_count": 14,
   "outputs": [],
   "source": [
    "def get_urls(start_epoch, end_epoch):\n",
    "    curr_start = start_epoch\n",
    "    one_day = 86400\n",
    "    ret = []\n",
    "    # can only do 500 results\n",
    "    while curr_start < end_epoch:\n",
    "        temp_end = min(end_epoch, curr_start + (one_day * 300))\n",
    "        url = f\"https://poloniex.com/public?command=returnChartData&currencyPair=USDT_BTC&start={curr_start}&end={temp_end}&period=86400\"\n",
    "        ret.append(url)\n",
    "        curr_start = temp_end\n",
    "    return ret\n",
    "\n",
    "# from 2015 to 2020 since USDT came out in 2014"
   ],
   "metadata": {
    "collapsed": false
   }
  },
  {
   "cell_type": "code",
   "execution_count": 15,
   "outputs": [
    {
     "data": {
      "text/plain": "             date     high      low     open    close  \\\n0   1451692800000     0.95     0.95     0.95     0.95   \n1   1451779200000     0.97     0.95     0.95     0.96   \n2   1451865600000     0.96     0.93     0.96     0.96   \n3   1451952000000     0.95     0.93     0.93     0.93   \n4   1452038400000     0.93     0.93     0.93     0.93   \n..            ...      ...      ...      ...      ...   \n88  1640649600000  4037.79  3760.75  4037.79  3792.28   \n89  1640736000000  3826.43  3603.00  3793.87  3629.68   \n90  1640822400000  3767.99  3586.22  3629.30  3709.31   \n91  1640908800000  3821.62  3606.91  3709.22  3677.49   \n92  1640995200000  3775.19  3673.79  3675.23  3765.85   \n\n                     volume                  quoteVolume  \\\n0      5.603982980000000000         5.363009890000000000   \n1    482.036490860000000000       465.891873470000000000   \n2    132.451743440000000000       126.214022850000000000   \n3    219.947631600000000000       206.680281620000000000   \n4     71.865247650000000000        67.445978190000000000   \n..                      ...                          ...   \n88  3755.304233990000000000  14602542.723782990000000000   \n89  3140.234921020000000000  11735452.510536170000000000   \n90  2356.571465070000000000   8740104.915044660000000000   \n91  5668.366520440000000000  21249209.112394930000000000   \n92  1467.865661040000000000   5474898.561692760000000000   \n\n            weightedAverage  \n0      0.956999670000000000  \n1      0.966507470000000000  \n2      0.952905710000000000  \n3      0.939679500000000000  \n4      0.938506160000000000  \n..                      ...  \n88  3888.511240070000000000  \n89  3737.125662790000000000  \n90  3708.822348310000000000  \n91  3748.735907560000000000  \n92  3729.836256140000000000  \n\n[2194 rows x 8 columns]",
      "text/html": "<div>\n<style scoped>\n    .dataframe tbody tr th:only-of-type {\n        vertical-align: middle;\n    }\n\n    .dataframe tbody tr th {\n        vertical-align: top;\n    }\n\n    .dataframe thead th {\n        text-align: right;\n    }\n</style>\n<table border=\"1\" class=\"dataframe\">\n  <thead>\n    <tr style=\"text-align: right;\">\n      <th></th>\n      <th>date</th>\n      <th>high</th>\n      <th>low</th>\n      <th>open</th>\n      <th>close</th>\n      <th>volume</th>\n      <th>quoteVolume</th>\n      <th>weightedAverage</th>\n    </tr>\n  </thead>\n  <tbody>\n    <tr>\n      <th>0</th>\n      <td>1451692800000</td>\n      <td>0.95</td>\n      <td>0.95</td>\n      <td>0.95</td>\n      <td>0.95</td>\n      <td>5.603982980000000000</td>\n      <td>5.363009890000000000</td>\n      <td>0.956999670000000000</td>\n    </tr>\n    <tr>\n      <th>1</th>\n      <td>1451779200000</td>\n      <td>0.97</td>\n      <td>0.95</td>\n      <td>0.95</td>\n      <td>0.96</td>\n      <td>482.036490860000000000</td>\n      <td>465.891873470000000000</td>\n      <td>0.966507470000000000</td>\n    </tr>\n    <tr>\n      <th>2</th>\n      <td>1451865600000</td>\n      <td>0.96</td>\n      <td>0.93</td>\n      <td>0.96</td>\n      <td>0.96</td>\n      <td>132.451743440000000000</td>\n      <td>126.214022850000000000</td>\n      <td>0.952905710000000000</td>\n    </tr>\n    <tr>\n      <th>3</th>\n      <td>1451952000000</td>\n      <td>0.95</td>\n      <td>0.93</td>\n      <td>0.93</td>\n      <td>0.93</td>\n      <td>219.947631600000000000</td>\n      <td>206.680281620000000000</td>\n      <td>0.939679500000000000</td>\n    </tr>\n    <tr>\n      <th>4</th>\n      <td>1452038400000</td>\n      <td>0.93</td>\n      <td>0.93</td>\n      <td>0.93</td>\n      <td>0.93</td>\n      <td>71.865247650000000000</td>\n      <td>67.445978190000000000</td>\n      <td>0.938506160000000000</td>\n    </tr>\n    <tr>\n      <th>...</th>\n      <td>...</td>\n      <td>...</td>\n      <td>...</td>\n      <td>...</td>\n      <td>...</td>\n      <td>...</td>\n      <td>...</td>\n      <td>...</td>\n    </tr>\n    <tr>\n      <th>88</th>\n      <td>1640649600000</td>\n      <td>4037.79</td>\n      <td>3760.75</td>\n      <td>4037.79</td>\n      <td>3792.28</td>\n      <td>3755.304233990000000000</td>\n      <td>14602542.723782990000000000</td>\n      <td>3888.511240070000000000</td>\n    </tr>\n    <tr>\n      <th>89</th>\n      <td>1640736000000</td>\n      <td>3826.43</td>\n      <td>3603.00</td>\n      <td>3793.87</td>\n      <td>3629.68</td>\n      <td>3140.234921020000000000</td>\n      <td>11735452.510536170000000000</td>\n      <td>3737.125662790000000000</td>\n    </tr>\n    <tr>\n      <th>90</th>\n      <td>1640822400000</td>\n      <td>3767.99</td>\n      <td>3586.22</td>\n      <td>3629.30</td>\n      <td>3709.31</td>\n      <td>2356.571465070000000000</td>\n      <td>8740104.915044660000000000</td>\n      <td>3708.822348310000000000</td>\n    </tr>\n    <tr>\n      <th>91</th>\n      <td>1640908800000</td>\n      <td>3821.62</td>\n      <td>3606.91</td>\n      <td>3709.22</td>\n      <td>3677.49</td>\n      <td>5668.366520440000000000</td>\n      <td>21249209.112394930000000000</td>\n      <td>3748.735907560000000000</td>\n    </tr>\n    <tr>\n      <th>92</th>\n      <td>1640995200000</td>\n      <td>3775.19</td>\n      <td>3673.79</td>\n      <td>3675.23</td>\n      <td>3765.85</td>\n      <td>1467.865661040000000000</td>\n      <td>5474898.561692760000000000</td>\n      <td>3729.836256140000000000</td>\n    </tr>\n  </tbody>\n</table>\n<p>2194 rows × 8 columns</p>\n</div>"
     },
     "execution_count": 15,
     "metadata": {},
     "output_type": "execute_result"
    }
   ],
   "source": [
    "urls = get_urls(int(datetime.datetime(2016, 1, 1, 0, 0, 0).strftime(\"%s\")), int(datetime.datetime(2021, 12, 31, 23, 59, 59).strftime(\"%s\")))   # 6 years from 2016 to 2021\n",
    "\n",
    "df = None\n",
    "for url in urls:\n",
    "    req = requests.get(url)\n",
    "    json_resp = json.loads(req.text)\n",
    "    if df is None:\n",
    "        df = pd.json_normalize(json_resp)\n",
    "    else:\n",
    "        df = pd.concat([df, pd.json_normalize(json_resp)])\n",
    "\n",
    "df"
   ],
   "metadata": {
    "collapsed": false
   }
  },
  {
   "cell_type": "code",
   "execution_count": 16,
   "outputs": [
    {
     "data": {
      "text/plain": "date                object\nhigh               float64\nlow                float64\nopen               float64\nclose              float64\nvolume             float64\nquoteVolume        float64\nweightedAverage    float64\ndtype: object"
     },
     "execution_count": 16,
     "metadata": {},
     "output_type": "execute_result"
    }
   ],
   "source": [
    "df = df.astype({\n",
    "    \"high\": np.float64,\n",
    "    \"low\": np.float64,\n",
    "    \"open\": np.float64,\n",
    "    \"close\": np.float64,\n",
    "    \"volume\": np.float64,\n",
    "    \"quoteVolume\": np.float64,\n",
    "    \"weightedAverage\": np.float64\n",
    "})\n",
    "df.dtypes"
   ],
   "metadata": {
    "collapsed": false
   }
  },
  {
   "cell_type": "code",
   "execution_count": 17,
   "outputs": [
    {
     "data": {
      "text/plain": "             date     high      low     open    close       volume  \\\n0   1451692800000     0.95     0.95     0.95     0.95     5.603983   \n1   1451779200000     0.97     0.95     0.95     0.96   482.036491   \n2   1451865600000     0.96     0.93     0.96     0.96   132.451743   \n3   1451952000000     0.95     0.93     0.93     0.93   219.947632   \n4   1452038400000     0.93     0.93     0.93     0.93    71.865248   \n..            ...      ...      ...      ...      ...          ...   \n88  1640649600000  4037.79  3760.75  4037.79  3792.28  3755.304234   \n89  1640736000000  3826.43  3603.00  3793.87  3629.68  3140.234921   \n90  1640822400000  3767.99  3586.22  3629.30  3709.31  2356.571465   \n91  1640908800000  3821.62  3606.91  3709.22  3677.49  5668.366520   \n92  1640995200000  3775.19  3673.79  3675.23  3765.85  1467.865661   \n\n     quoteVolume  weightedAverage  \n0   5.363010e+00         0.957000  \n1   4.658919e+02         0.966507  \n2   1.262140e+02         0.952906  \n3   2.066803e+02         0.939680  \n4   6.744598e+01         0.938506  \n..           ...              ...  \n88  1.460254e+07      3888.511240  \n89  1.173545e+07      3737.125663  \n90  8.740105e+06      3708.822348  \n91  2.124921e+07      3748.735908  \n92  5.474899e+06      3729.836256  \n\n[2194 rows x 8 columns]",
      "text/html": "<div>\n<style scoped>\n    .dataframe tbody tr th:only-of-type {\n        vertical-align: middle;\n    }\n\n    .dataframe tbody tr th {\n        vertical-align: top;\n    }\n\n    .dataframe thead th {\n        text-align: right;\n    }\n</style>\n<table border=\"1\" class=\"dataframe\">\n  <thead>\n    <tr style=\"text-align: right;\">\n      <th></th>\n      <th>date</th>\n      <th>high</th>\n      <th>low</th>\n      <th>open</th>\n      <th>close</th>\n      <th>volume</th>\n      <th>quoteVolume</th>\n      <th>weightedAverage</th>\n    </tr>\n  </thead>\n  <tbody>\n    <tr>\n      <th>0</th>\n      <td>1451692800000</td>\n      <td>0.95</td>\n      <td>0.95</td>\n      <td>0.95</td>\n      <td>0.95</td>\n      <td>5.603983</td>\n      <td>5.363010e+00</td>\n      <td>0.957000</td>\n    </tr>\n    <tr>\n      <th>1</th>\n      <td>1451779200000</td>\n      <td>0.97</td>\n      <td>0.95</td>\n      <td>0.95</td>\n      <td>0.96</td>\n      <td>482.036491</td>\n      <td>4.658919e+02</td>\n      <td>0.966507</td>\n    </tr>\n    <tr>\n      <th>2</th>\n      <td>1451865600000</td>\n      <td>0.96</td>\n      <td>0.93</td>\n      <td>0.96</td>\n      <td>0.96</td>\n      <td>132.451743</td>\n      <td>1.262140e+02</td>\n      <td>0.952906</td>\n    </tr>\n    <tr>\n      <th>3</th>\n      <td>1451952000000</td>\n      <td>0.95</td>\n      <td>0.93</td>\n      <td>0.93</td>\n      <td>0.93</td>\n      <td>219.947632</td>\n      <td>2.066803e+02</td>\n      <td>0.939680</td>\n    </tr>\n    <tr>\n      <th>4</th>\n      <td>1452038400000</td>\n      <td>0.93</td>\n      <td>0.93</td>\n      <td>0.93</td>\n      <td>0.93</td>\n      <td>71.865248</td>\n      <td>6.744598e+01</td>\n      <td>0.938506</td>\n    </tr>\n    <tr>\n      <th>...</th>\n      <td>...</td>\n      <td>...</td>\n      <td>...</td>\n      <td>...</td>\n      <td>...</td>\n      <td>...</td>\n      <td>...</td>\n      <td>...</td>\n    </tr>\n    <tr>\n      <th>88</th>\n      <td>1640649600000</td>\n      <td>4037.79</td>\n      <td>3760.75</td>\n      <td>4037.79</td>\n      <td>3792.28</td>\n      <td>3755.304234</td>\n      <td>1.460254e+07</td>\n      <td>3888.511240</td>\n    </tr>\n    <tr>\n      <th>89</th>\n      <td>1640736000000</td>\n      <td>3826.43</td>\n      <td>3603.00</td>\n      <td>3793.87</td>\n      <td>3629.68</td>\n      <td>3140.234921</td>\n      <td>1.173545e+07</td>\n      <td>3737.125663</td>\n    </tr>\n    <tr>\n      <th>90</th>\n      <td>1640822400000</td>\n      <td>3767.99</td>\n      <td>3586.22</td>\n      <td>3629.30</td>\n      <td>3709.31</td>\n      <td>2356.571465</td>\n      <td>8.740105e+06</td>\n      <td>3708.822348</td>\n    </tr>\n    <tr>\n      <th>91</th>\n      <td>1640908800000</td>\n      <td>3821.62</td>\n      <td>3606.91</td>\n      <td>3709.22</td>\n      <td>3677.49</td>\n      <td>5668.366520</td>\n      <td>2.124921e+07</td>\n      <td>3748.735908</td>\n    </tr>\n    <tr>\n      <th>92</th>\n      <td>1640995200000</td>\n      <td>3775.19</td>\n      <td>3673.79</td>\n      <td>3675.23</td>\n      <td>3765.85</td>\n      <td>1467.865661</td>\n      <td>5.474899e+06</td>\n      <td>3729.836256</td>\n    </tr>\n  </tbody>\n</table>\n<p>2194 rows × 8 columns</p>\n</div>"
     },
     "execution_count": 17,
     "metadata": {},
     "output_type": "execute_result"
    }
   ],
   "source": [
    "df"
   ],
   "metadata": {
    "collapsed": false
   }
  },
  {
   "cell_type": "code",
   "execution_count": 18,
   "outputs": [],
   "source": [
    "df['date'] = pd.to_datetime(df['date'], unit='ms')\n",
    "df = df.drop_duplicates(subset=[\"date\"])\n",
    "df = df.set_index(\"date\")\n",
    "df.to_pickle(\"../../data/BTC_USDT_D.pkl\")"
   ],
   "metadata": {
    "collapsed": false
   }
  },
  {
   "cell_type": "code",
   "execution_count": 6,
   "outputs": [],
   "source": [],
   "metadata": {
    "collapsed": false
   }
  },
  {
   "cell_type": "code",
   "execution_count": 6,
   "outputs": [],
   "source": [],
   "metadata": {
    "collapsed": false
   }
  }
 ],
 "metadata": {
  "kernelspec": {
   "display_name": "Python 3",
   "language": "python",
   "name": "python3"
  },
  "language_info": {
   "codemirror_mode": {
    "name": "ipython",
    "version": 2
   },
   "file_extension": ".py",
   "mimetype": "text/x-python",
   "name": "python",
   "nbconvert_exporter": "python",
   "pygments_lexer": "ipython2",
   "version": "2.7.6"
  }
 },
 "nbformat": 4,
 "nbformat_minor": 0
}
