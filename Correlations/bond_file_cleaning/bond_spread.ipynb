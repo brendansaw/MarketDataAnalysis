{
 "cells": [
  {
   "cell_type": "code",
   "execution_count": 1,
   "metadata": {
    "collapsed": true
   },
   "outputs": [],
   "source": [
    "import pandas as pd\n",
    "import numpy as np"
   ]
  },
  {
   "cell_type": "code",
   "execution_count": 79,
   "outputs": [
    {
     "data": {
      "text/plain": "(            date  CAD_10Y\n 0     2001-01-02     5.28\n 1     2001-01-03     5.43\n 2     2001-01-04     5.39\n 3     2001-01-05     5.32\n 4     2001-01-08     5.35\n ...          ...      ...\n 5482  2022-11-29     2.99\n 5483  2022-11-30     2.96\n 5484  2022-12-01     2.83\n 5485  2022-12-02     2.77\n 5486  2022-12-05     2.83\n \n [5487 rows x 2 columns],\n          Month    UK_10Y\n 0     Jan-2010  4.426421\n 1     Feb-2010  4.526235\n 2     Mar-2010  4.585615\n 3     Apr-2010  4.571201\n 4     May-2010  4.352880\n ..         ...       ...\n 127   Aug-2020  0.761598\n 128   Sep-2020  0.771977\n 129   Oct-2020  0.805915\n 130   Nov-2020  0.889436\n 131   Dec-2020  0.812770\n \n [132 rows x 2 columns],\n         Date  US_10Y\n 0    12/2020   0.845\n 1    11/2020   0.879\n 2    10/2020   0.684\n 3    09/2020   0.706\n 4    08/2020   0.535\n ..       ...     ...\n 127  05/2010   3.693\n 128  04/2010   3.838\n 129  03/2010   3.626\n 130  02/2010   3.611\n 131  01/2010   3.793\n \n [132 rows x 2 columns])"
     },
     "execution_count": 79,
     "metadata": {},
     "output_type": "execute_result"
    }
   ],
   "source": [
    "cad_bonds = pd.read_csv(\"CAD_BOND_YIELD.csv\")[[\"date\", \"BD.CDN.10YR.DQ.YLD\"]].rename(columns={\"BD.CDN.10YR.DQ.YLD\": \"CAD_10Y\"})\n",
    "uk_bonds = pd.read_csv(\"UK_BOND_YIELD.csv\")[[\"Month\", \"Long\"]].rename(columns={\"Long\": \"UK_10Y\"})\n",
    "us_bonds = pd.read_csv(\"US_BOND_YIELD.csv\")[[\"Date\", \"Open\"]].rename(columns={\"Open\": \"US_10Y\"})\n",
    "cad_bonds, uk_bonds, us_bonds"
   ],
   "metadata": {
    "collapsed": false
   }
  },
  {
   "cell_type": "code",
   "execution_count": 80,
   "outputs": [
    {
     "data": {
      "text/plain": "         US_10Y\nMonth          \n2020-12   0.845\n2020-11   0.879\n2020-10   0.684\n2020-09   0.706\n2020-08   0.535\n...         ...\n2010-05   3.693\n2010-04   3.838\n2010-03   3.626\n2010-02   3.611\n2010-01   3.793\n\n[132 rows x 1 columns]",
      "text/html": "<div>\n<style scoped>\n    .dataframe tbody tr th:only-of-type {\n        vertical-align: middle;\n    }\n\n    .dataframe tbody tr th {\n        vertical-align: top;\n    }\n\n    .dataframe thead th {\n        text-align: right;\n    }\n</style>\n<table border=\"1\" class=\"dataframe\">\n  <thead>\n    <tr style=\"text-align: right;\">\n      <th></th>\n      <th>US_10Y</th>\n    </tr>\n    <tr>\n      <th>Month</th>\n      <th></th>\n    </tr>\n  </thead>\n  <tbody>\n    <tr>\n      <th>2020-12</th>\n      <td>0.845</td>\n    </tr>\n    <tr>\n      <th>2020-11</th>\n      <td>0.879</td>\n    </tr>\n    <tr>\n      <th>2020-10</th>\n      <td>0.684</td>\n    </tr>\n    <tr>\n      <th>2020-09</th>\n      <td>0.706</td>\n    </tr>\n    <tr>\n      <th>2020-08</th>\n      <td>0.535</td>\n    </tr>\n    <tr>\n      <th>...</th>\n      <td>...</td>\n    </tr>\n    <tr>\n      <th>2010-05</th>\n      <td>3.693</td>\n    </tr>\n    <tr>\n      <th>2010-04</th>\n      <td>3.838</td>\n    </tr>\n    <tr>\n      <th>2010-03</th>\n      <td>3.626</td>\n    </tr>\n    <tr>\n      <th>2010-02</th>\n      <td>3.611</td>\n    </tr>\n    <tr>\n      <th>2010-01</th>\n      <td>3.793</td>\n    </tr>\n  </tbody>\n</table>\n<p>132 rows × 1 columns</p>\n</div>"
     },
     "execution_count": 80,
     "metadata": {},
     "output_type": "execute_result"
    }
   ],
   "source": [
    "us_bonds = us_bonds.astype({\n",
    "    \"Date\": np.datetime64,\n",
    "    \"US_10Y\": np.float64\n",
    "})\n",
    "us_bonds = us_bonds.rename(columns={\"Date\": \"Month\"})\n",
    "us_bonds[\"Month\"] = us_bonds[\"Month\"].dt.to_period(\"M\")\n",
    "us_bonds = us_bonds.set_index(\"Month\")\n",
    "us_bonds"
   ],
   "metadata": {
    "collapsed": false
   }
  },
  {
   "cell_type": "code",
   "execution_count": 81,
   "outputs": [
    {
     "data": {
      "text/plain": "           date  CAD_10Y\n0    2001-01-02     5.28\n1    2001-01-03     5.43\n2    2001-01-04     5.39\n3    2001-01-05     5.32\n4    2001-01-08     5.35\n...         ...      ...\n5482 2022-11-29     2.99\n5483 2022-11-30     2.96\n5484 2022-12-01     2.83\n5485 2022-12-02     2.77\n5486 2022-12-05     2.83\n\n[5487 rows x 2 columns]",
      "text/html": "<div>\n<style scoped>\n    .dataframe tbody tr th:only-of-type {\n        vertical-align: middle;\n    }\n\n    .dataframe tbody tr th {\n        vertical-align: top;\n    }\n\n    .dataframe thead th {\n        text-align: right;\n    }\n</style>\n<table border=\"1\" class=\"dataframe\">\n  <thead>\n    <tr style=\"text-align: right;\">\n      <th></th>\n      <th>date</th>\n      <th>CAD_10Y</th>\n    </tr>\n  </thead>\n  <tbody>\n    <tr>\n      <th>0</th>\n      <td>2001-01-02</td>\n      <td>5.28</td>\n    </tr>\n    <tr>\n      <th>1</th>\n      <td>2001-01-03</td>\n      <td>5.43</td>\n    </tr>\n    <tr>\n      <th>2</th>\n      <td>2001-01-04</td>\n      <td>5.39</td>\n    </tr>\n    <tr>\n      <th>3</th>\n      <td>2001-01-05</td>\n      <td>5.32</td>\n    </tr>\n    <tr>\n      <th>4</th>\n      <td>2001-01-08</td>\n      <td>5.35</td>\n    </tr>\n    <tr>\n      <th>...</th>\n      <td>...</td>\n      <td>...</td>\n    </tr>\n    <tr>\n      <th>5482</th>\n      <td>2022-11-29</td>\n      <td>2.99</td>\n    </tr>\n    <tr>\n      <th>5483</th>\n      <td>2022-11-30</td>\n      <td>2.96</td>\n    </tr>\n    <tr>\n      <th>5484</th>\n      <td>2022-12-01</td>\n      <td>2.83</td>\n    </tr>\n    <tr>\n      <th>5485</th>\n      <td>2022-12-02</td>\n      <td>2.77</td>\n    </tr>\n    <tr>\n      <th>5486</th>\n      <td>2022-12-05</td>\n      <td>2.83</td>\n    </tr>\n  </tbody>\n</table>\n<p>5487 rows × 2 columns</p>\n</div>"
     },
     "execution_count": 81,
     "metadata": {},
     "output_type": "execute_result"
    }
   ],
   "source": [
    "cad_bonds = cad_bonds.astype({\n",
    "    \"date\": np.datetime64,\n",
    "    \"CAD_10Y\": np.float64\n",
    "})\n",
    "# canadian bonds per day, get average per month\n",
    "cad_bonds"
   ],
   "metadata": {
    "collapsed": false
   }
  },
  {
   "cell_type": "code",
   "execution_count": 82,
   "outputs": [
    {
     "data": {
      "text/plain": "          CAD_10Y\nMonth            \n2001-01  5.418636\n2001-02  5.430000\n2001-03  5.301364\n2001-04  5.591500\n2001-05  5.851364\n...           ...\n2022-08  2.859091\n2022-09  3.145500\n2022-10  3.380500\n2022-11  3.166190\n2022-12  2.810000\n\n[264 rows x 1 columns]",
      "text/html": "<div>\n<style scoped>\n    .dataframe tbody tr th:only-of-type {\n        vertical-align: middle;\n    }\n\n    .dataframe tbody tr th {\n        vertical-align: top;\n    }\n\n    .dataframe thead th {\n        text-align: right;\n    }\n</style>\n<table border=\"1\" class=\"dataframe\">\n  <thead>\n    <tr style=\"text-align: right;\">\n      <th></th>\n      <th>CAD_10Y</th>\n    </tr>\n    <tr>\n      <th>Month</th>\n      <th></th>\n    </tr>\n  </thead>\n  <tbody>\n    <tr>\n      <th>2001-01</th>\n      <td>5.418636</td>\n    </tr>\n    <tr>\n      <th>2001-02</th>\n      <td>5.430000</td>\n    </tr>\n    <tr>\n      <th>2001-03</th>\n      <td>5.301364</td>\n    </tr>\n    <tr>\n      <th>2001-04</th>\n      <td>5.591500</td>\n    </tr>\n    <tr>\n      <th>2001-05</th>\n      <td>5.851364</td>\n    </tr>\n    <tr>\n      <th>...</th>\n      <td>...</td>\n    </tr>\n    <tr>\n      <th>2022-08</th>\n      <td>2.859091</td>\n    </tr>\n    <tr>\n      <th>2022-09</th>\n      <td>3.145500</td>\n    </tr>\n    <tr>\n      <th>2022-10</th>\n      <td>3.380500</td>\n    </tr>\n    <tr>\n      <th>2022-11</th>\n      <td>3.166190</td>\n    </tr>\n    <tr>\n      <th>2022-12</th>\n      <td>2.810000</td>\n    </tr>\n  </tbody>\n</table>\n<p>264 rows × 1 columns</p>\n</div>"
     },
     "execution_count": 82,
     "metadata": {},
     "output_type": "execute_result"
    }
   ],
   "source": [
    "cad_bonds[\"Month\"] = cad_bonds[\"date\"].dt.to_period(\"M\")\n",
    "cad_bonds = cad_bonds.groupby(\"Month\").mean(\"CAD_10Y\")\n",
    "cad_bonds"
   ],
   "metadata": {
    "collapsed": false
   }
  },
  {
   "cell_type": "code",
   "execution_count": 83,
   "outputs": [],
   "source": [
    "uk_bonds[\"Month\"] = pd.to_datetime(uk_bonds[\"Month\"]).dt.to_period(\"M\")"
   ],
   "metadata": {
    "collapsed": false
   }
  },
  {
   "cell_type": "code",
   "execution_count": 84,
   "outputs": [
    {
     "data": {
      "text/plain": "           UK_10Y\nMonth            \n2010-01  4.426421\n2010-02  4.526235\n2010-03  4.585615\n2010-04  4.571201\n2010-05  4.352880\n...           ...\n2020-08  0.761598\n2020-09  0.771977\n2020-10  0.805915\n2020-11  0.889436\n2020-12  0.812770\n\n[132 rows x 1 columns]",
      "text/html": "<div>\n<style scoped>\n    .dataframe tbody tr th:only-of-type {\n        vertical-align: middle;\n    }\n\n    .dataframe tbody tr th {\n        vertical-align: top;\n    }\n\n    .dataframe thead th {\n        text-align: right;\n    }\n</style>\n<table border=\"1\" class=\"dataframe\">\n  <thead>\n    <tr style=\"text-align: right;\">\n      <th></th>\n      <th>UK_10Y</th>\n    </tr>\n    <tr>\n      <th>Month</th>\n      <th></th>\n    </tr>\n  </thead>\n  <tbody>\n    <tr>\n      <th>2010-01</th>\n      <td>4.426421</td>\n    </tr>\n    <tr>\n      <th>2010-02</th>\n      <td>4.526235</td>\n    </tr>\n    <tr>\n      <th>2010-03</th>\n      <td>4.585615</td>\n    </tr>\n    <tr>\n      <th>2010-04</th>\n      <td>4.571201</td>\n    </tr>\n    <tr>\n      <th>2010-05</th>\n      <td>4.352880</td>\n    </tr>\n    <tr>\n      <th>...</th>\n      <td>...</td>\n    </tr>\n    <tr>\n      <th>2020-08</th>\n      <td>0.761598</td>\n    </tr>\n    <tr>\n      <th>2020-09</th>\n      <td>0.771977</td>\n    </tr>\n    <tr>\n      <th>2020-10</th>\n      <td>0.805915</td>\n    </tr>\n    <tr>\n      <th>2020-11</th>\n      <td>0.889436</td>\n    </tr>\n    <tr>\n      <th>2020-12</th>\n      <td>0.812770</td>\n    </tr>\n  </tbody>\n</table>\n<p>132 rows × 1 columns</p>\n</div>"
     },
     "execution_count": 84,
     "metadata": {},
     "output_type": "execute_result"
    }
   ],
   "source": [
    "uk_bonds = uk_bonds.set_index(\"Month\").astype({\"UK_10Y\": np.float64})\n",
    "uk_bonds"
   ],
   "metadata": {
    "collapsed": false
   }
  },
  {
   "cell_type": "code",
   "execution_count": 85,
   "outputs": [
    {
     "data": {
      "text/plain": "          CAD_10Y    UK_10Y  US_10Y\nMonth                              \n2010-01  3.485000  4.426421   3.793\n2010-02  3.423684  4.526235   3.611\n2010-03  3.490435  4.585615   3.626\n2010-04  3.670000  4.571201   3.838\n2010-05  3.445500  4.352880   3.693\n...           ...       ...     ...\n2020-08  0.563500  0.761598   0.535\n2020-09  0.559524  0.771977   0.706\n2020-10  0.602857  0.805915   0.684\n2020-11  0.688500  0.889436   0.879\n2020-12  0.730952  0.812770   0.845\n\n[132 rows x 3 columns]",
      "text/html": "<div>\n<style scoped>\n    .dataframe tbody tr th:only-of-type {\n        vertical-align: middle;\n    }\n\n    .dataframe tbody tr th {\n        vertical-align: top;\n    }\n\n    .dataframe thead th {\n        text-align: right;\n    }\n</style>\n<table border=\"1\" class=\"dataframe\">\n  <thead>\n    <tr style=\"text-align: right;\">\n      <th></th>\n      <th>CAD_10Y</th>\n      <th>UK_10Y</th>\n      <th>US_10Y</th>\n    </tr>\n    <tr>\n      <th>Month</th>\n      <th></th>\n      <th></th>\n      <th></th>\n    </tr>\n  </thead>\n  <tbody>\n    <tr>\n      <th>2010-01</th>\n      <td>3.485000</td>\n      <td>4.426421</td>\n      <td>3.793</td>\n    </tr>\n    <tr>\n      <th>2010-02</th>\n      <td>3.423684</td>\n      <td>4.526235</td>\n      <td>3.611</td>\n    </tr>\n    <tr>\n      <th>2010-03</th>\n      <td>3.490435</td>\n      <td>4.585615</td>\n      <td>3.626</td>\n    </tr>\n    <tr>\n      <th>2010-04</th>\n      <td>3.670000</td>\n      <td>4.571201</td>\n      <td>3.838</td>\n    </tr>\n    <tr>\n      <th>2010-05</th>\n      <td>3.445500</td>\n      <td>4.352880</td>\n      <td>3.693</td>\n    </tr>\n    <tr>\n      <th>...</th>\n      <td>...</td>\n      <td>...</td>\n      <td>...</td>\n    </tr>\n    <tr>\n      <th>2020-08</th>\n      <td>0.563500</td>\n      <td>0.761598</td>\n      <td>0.535</td>\n    </tr>\n    <tr>\n      <th>2020-09</th>\n      <td>0.559524</td>\n      <td>0.771977</td>\n      <td>0.706</td>\n    </tr>\n    <tr>\n      <th>2020-10</th>\n      <td>0.602857</td>\n      <td>0.805915</td>\n      <td>0.684</td>\n    </tr>\n    <tr>\n      <th>2020-11</th>\n      <td>0.688500</td>\n      <td>0.889436</td>\n      <td>0.879</td>\n    </tr>\n    <tr>\n      <th>2020-12</th>\n      <td>0.730952</td>\n      <td>0.812770</td>\n      <td>0.845</td>\n    </tr>\n  </tbody>\n</table>\n<p>132 rows × 3 columns</p>\n</div>"
     },
     "execution_count": 85,
     "metadata": {},
     "output_type": "execute_result"
    }
   ],
   "source": [
    "joined = pd.concat([cad_bonds, uk_bonds, us_bonds], axis=1).dropna()\n",
    "joined"
   ],
   "metadata": {
    "collapsed": false
   }
  },
  {
   "cell_type": "code",
   "execution_count": 86,
   "outputs": [
    {
     "data": {
      "text/plain": "          CAD_10Y    UK_10Y  US_10Y  CAD_UK_spread  US_UK_spread  \\\nMonth                                                              \n2010-01  3.485000  4.426421   3.793       0.941421      0.633421   \n2010-02  3.423684  4.526235   3.611       1.102551      0.915235   \n2010-03  3.490435  4.585615   3.626       1.095180      0.959615   \n2010-04  3.670000  4.571201   3.838       0.901201      0.733201   \n2010-05  3.445500  4.352880   3.693       0.907380      0.659880   \n...           ...       ...     ...            ...           ...   \n2020-08  0.563500  0.761598   0.535       0.198098      0.226598   \n2020-09  0.559524  0.771977   0.706       0.212453      0.065977   \n2020-10  0.602857  0.805915   0.684       0.203058      0.121915   \n2020-11  0.688500  0.889436   0.879       0.200936      0.010436   \n2020-12  0.730952  0.812770   0.845       0.081818      0.032230   \n\n         CAD_US_spread  \nMonth                   \n2010-01       0.308000  \n2010-02       0.187316  \n2010-03       0.135565  \n2010-04       0.168000  \n2010-05       0.247500  \n...                ...  \n2020-08       0.028500  \n2020-09       0.146476  \n2020-10       0.081143  \n2020-11       0.190500  \n2020-12       0.114048  \n\n[132 rows x 6 columns]",
      "text/html": "<div>\n<style scoped>\n    .dataframe tbody tr th:only-of-type {\n        vertical-align: middle;\n    }\n\n    .dataframe tbody tr th {\n        vertical-align: top;\n    }\n\n    .dataframe thead th {\n        text-align: right;\n    }\n</style>\n<table border=\"1\" class=\"dataframe\">\n  <thead>\n    <tr style=\"text-align: right;\">\n      <th></th>\n      <th>CAD_10Y</th>\n      <th>UK_10Y</th>\n      <th>US_10Y</th>\n      <th>CAD_UK_spread</th>\n      <th>US_UK_spread</th>\n      <th>CAD_US_spread</th>\n    </tr>\n    <tr>\n      <th>Month</th>\n      <th></th>\n      <th></th>\n      <th></th>\n      <th></th>\n      <th></th>\n      <th></th>\n    </tr>\n  </thead>\n  <tbody>\n    <tr>\n      <th>2010-01</th>\n      <td>3.485000</td>\n      <td>4.426421</td>\n      <td>3.793</td>\n      <td>0.941421</td>\n      <td>0.633421</td>\n      <td>0.308000</td>\n    </tr>\n    <tr>\n      <th>2010-02</th>\n      <td>3.423684</td>\n      <td>4.526235</td>\n      <td>3.611</td>\n      <td>1.102551</td>\n      <td>0.915235</td>\n      <td>0.187316</td>\n    </tr>\n    <tr>\n      <th>2010-03</th>\n      <td>3.490435</td>\n      <td>4.585615</td>\n      <td>3.626</td>\n      <td>1.095180</td>\n      <td>0.959615</td>\n      <td>0.135565</td>\n    </tr>\n    <tr>\n      <th>2010-04</th>\n      <td>3.670000</td>\n      <td>4.571201</td>\n      <td>3.838</td>\n      <td>0.901201</td>\n      <td>0.733201</td>\n      <td>0.168000</td>\n    </tr>\n    <tr>\n      <th>2010-05</th>\n      <td>3.445500</td>\n      <td>4.352880</td>\n      <td>3.693</td>\n      <td>0.907380</td>\n      <td>0.659880</td>\n      <td>0.247500</td>\n    </tr>\n    <tr>\n      <th>...</th>\n      <td>...</td>\n      <td>...</td>\n      <td>...</td>\n      <td>...</td>\n      <td>...</td>\n      <td>...</td>\n    </tr>\n    <tr>\n      <th>2020-08</th>\n      <td>0.563500</td>\n      <td>0.761598</td>\n      <td>0.535</td>\n      <td>0.198098</td>\n      <td>0.226598</td>\n      <td>0.028500</td>\n    </tr>\n    <tr>\n      <th>2020-09</th>\n      <td>0.559524</td>\n      <td>0.771977</td>\n      <td>0.706</td>\n      <td>0.212453</td>\n      <td>0.065977</td>\n      <td>0.146476</td>\n    </tr>\n    <tr>\n      <th>2020-10</th>\n      <td>0.602857</td>\n      <td>0.805915</td>\n      <td>0.684</td>\n      <td>0.203058</td>\n      <td>0.121915</td>\n      <td>0.081143</td>\n    </tr>\n    <tr>\n      <th>2020-11</th>\n      <td>0.688500</td>\n      <td>0.889436</td>\n      <td>0.879</td>\n      <td>0.200936</td>\n      <td>0.010436</td>\n      <td>0.190500</td>\n    </tr>\n    <tr>\n      <th>2020-12</th>\n      <td>0.730952</td>\n      <td>0.812770</td>\n      <td>0.845</td>\n      <td>0.081818</td>\n      <td>0.032230</td>\n      <td>0.114048</td>\n    </tr>\n  </tbody>\n</table>\n<p>132 rows × 6 columns</p>\n</div>"
     },
     "execution_count": 86,
     "metadata": {},
     "output_type": "execute_result"
    }
   ],
   "source": [
    "joined[\"CAD_UK_spread\"] = joined[\"UK_10Y\"] - joined[\"CAD_10Y\"]\n",
    "joined[\"US_UK_spread\"] = joined[\"US_10Y\"] - joined[\"UK_10Y\"]\n",
    "joined[\"CAD_US_spread\"] = joined[\"US_10Y\"] - joined[\"CAD_10Y\"]\n",
    "joined"
   ],
   "metadata": {
    "collapsed": false
   }
  },
  {
   "cell_type": "code",
   "execution_count": 88,
   "outputs": [],
   "source": [
    "joined.to_csv(\"BOND_SPREAD.csv\")"
   ],
   "metadata": {
    "collapsed": false
   }
  },
  {
   "cell_type": "code",
   "execution_count": null,
   "outputs": [],
   "source": [],
   "metadata": {
    "collapsed": false
   }
  }
 ],
 "metadata": {
  "kernelspec": {
   "display_name": "Python 3",
   "language": "python",
   "name": "python3"
  },
  "language_info": {
   "codemirror_mode": {
    "name": "ipython",
    "version": 2
   },
   "file_extension": ".py",
   "mimetype": "text/x-python",
   "name": "python",
   "nbconvert_exporter": "python",
   "pygments_lexer": "ipython2",
   "version": "2.7.6"
  }
 },
 "nbformat": 4,
 "nbformat_minor": 0
}
